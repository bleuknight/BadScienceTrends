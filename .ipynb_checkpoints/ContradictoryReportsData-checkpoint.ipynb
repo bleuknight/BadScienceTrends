{
 "cells": [
  {
   "cell_type": "code",
   "execution_count": 1,
   "metadata": {
    "collapsed": true
   },
   "outputs": [],
   "source": [
    "import pandas as pd\n",
    "\n",
    "#this is the file which links contains all query terms\n",
    "terms = pd.read_csv(\"queryTerms.csv\")\n",
    "queryTerms = list(terms['term1'])\n"
   ]
  },
  {
   "cell_type": "code",
   "execution_count": 2,
   "metadata": {},
   "outputs": [
    {
     "data": {
      "text/plain": [
       "['Cell+line',\n",
       " 'Dose-dependent',\n",
       " 'quality',\n",
       " 'case+study',\n",
       " 'pilot+study',\n",
       " 'data+quality',\n",
       " 'Reproducibility',\n",
       " 'Reproducible+Results',\n",
       " 'transparency',\n",
       " 'insufficient+information',\n",
       " 'Specificity',\n",
       " 'Antibody',\n",
       " 'Clone',\n",
       " 'Strain',\n",
       " 'Gender',\n",
       " 'Positive+control',\n",
       " 'Questionairre',\n",
       " 'Survey',\n",
       " 'Sensitivity',\n",
       " 'Animal model',\n",
       " 'animal+Model ',\n",
       " 'short +term + study',\n",
       " 'long+term+study',\n",
       " 'omission',\n",
       " 'plasmid',\n",
       " 'Clinical+Trials',\n",
       " 'side+effects',\n",
       " 'drug+interaction',\n",
       " 'poor+quality',\n",
       " 'dosing',\n",
       " 'dosage',\n",
       " 'human+error',\n",
       " ' in-vitro+in-vivo+correlation',\n",
       " 'indirect+measurement',\n",
       " 'confounding+factor',\n",
       " 'misinterpretation',\n",
       " 'speculation',\n",
       " 'case+study',\n",
       " 'placebo',\n",
       " 'qualitative+data',\n",
       " 'survey',\n",
       " 'phase+III+trials',\n",
       " 'bioavailable',\n",
       " 'bioavailability',\n",
       " 'coaching',\n",
       " 'Conflict+of+Interest ',\n",
       " 'wrong+conclusion',\n",
       " 'off-label',\n",
       " 'general+conclusion',\n",
       " 'generalized+conclusion',\n",
       " 'sub-threshold',\n",
       " 'Contamination',\n",
       " 'Bio-identical']"
      ]
     },
     "execution_count": 2,
     "metadata": {},
     "output_type": "execute_result"
    }
   ],
   "source": [
    "queryTerms"
   ]
  },
  {
   "cell_type": "code",
   "execution_count": 3,
   "metadata": {},
   "outputs": [
    {
     "name": "stdout",
     "output_type": "stream",
     "text": [
      "['\"contradictory+reports\"[TIAB] AND \"Cell+line\"[TIAB]', '\"contradictory+reports\"[TIAB] AND \"Dose-dependent\"[TIAB]', '\"contradictory+reports\"[TIAB] AND \"quality\"[TIAB]', '\"contradictory+reports\"[TIAB] AND \"case+study\"[TIAB]', '\"contradictory+reports\"[TIAB] AND \"pilot+study\"[TIAB]', '\"contradictory+reports\"[TIAB] AND \"data+quality\"[TIAB]', '\"contradictory+reports\"[TIAB] AND \"Reproducibility\"[TIAB]', '\"contradictory+reports\"[TIAB] AND \"Reproducible+Results\"[TIAB]', '\"contradictory+reports\"[TIAB] AND \"transparency\"[TIAB]', '\"contradictory+reports\"[TIAB] AND \"insufficient+information\"[TIAB]', '\"contradictory+reports\"[TIAB] AND \"Specificity\"[TIAB]', '\"contradictory+reports\"[TIAB] AND \"Antibody\"[TIAB]', '\"contradictory+reports\"[TIAB] AND \"Clone\"[TIAB]', '\"contradictory+reports\"[TIAB] AND \"Strain\"[TIAB]', '\"contradictory+reports\"[TIAB] AND \"Gender\"[TIAB]', '\"contradictory+reports\"[TIAB] AND \"Positive+control\"[TIAB]', '\"contradictory+reports\"[TIAB] AND \"Questionairre\"[TIAB]', '\"contradictory+reports\"[TIAB] AND \"Survey\"[TIAB]', '\"contradictory+reports\"[TIAB] AND \"Sensitivity\"[TIAB]', '\"contradictory+reports\"[TIAB] AND \"Animal model\"[TIAB]', '\"contradictory+reports\"[TIAB] AND \"animal+Model \"[TIAB]', '\"contradictory+reports\"[TIAB] AND \"short +term + study\"[TIAB]', '\"contradictory+reports\"[TIAB] AND \"long+term+study\"[TIAB]', '\"contradictory+reports\"[TIAB] AND \"omission\"[TIAB]', '\"contradictory+reports\"[TIAB] AND \"plasmid\"[TIAB]', '\"contradictory+reports\"[TIAB] AND \"Clinical+Trials\"[TIAB]', '\"contradictory+reports\"[TIAB] AND \"side+effects\"[TIAB]', '\"contradictory+reports\"[TIAB] AND \"drug+interaction\"[TIAB]', '\"contradictory+reports\"[TIAB] AND \"poor+quality\"[TIAB]', '\"contradictory+reports\"[TIAB] AND \"dosing\"[TIAB]', '\"contradictory+reports\"[TIAB] AND \"dosage\"[TIAB]', '\"contradictory+reports\"[TIAB] AND \"human+error\"[TIAB]', '\"contradictory+reports\"[TIAB] AND \" in-vitro+in-vivo+correlation\"[TIAB]', '\"contradictory+reports\"[TIAB] AND \"indirect+measurement\"[TIAB]', '\"contradictory+reports\"[TIAB] AND \"confounding+factor\"[TIAB]', '\"contradictory+reports\"[TIAB] AND \"misinterpretation\"[TIAB]', '\"contradictory+reports\"[TIAB] AND \"speculation\"[TIAB]', '\"contradictory+reports\"[TIAB] AND \"case+study\"[TIAB]', '\"contradictory+reports\"[TIAB] AND \"placebo\"[TIAB]', '\"contradictory+reports\"[TIAB] AND \"qualitative+data\"[TIAB]', '\"contradictory+reports\"[TIAB] AND \"survey\"[TIAB]', '\"contradictory+reports\"[TIAB] AND \"phase+III+trials\"[TIAB]', '\"contradictory+reports\"[TIAB] AND \"bioavailable\"[TIAB]', '\"contradictory+reports\"[TIAB] AND \"bioavailability\"[TIAB]', '\"contradictory+reports\"[TIAB] AND \"coaching\"[TIAB]', '\"contradictory+reports\"[TIAB] AND \"Conflict+of+Interest \"[TIAB]', '\"contradictory+reports\"[TIAB] AND \"wrong+conclusion\"[TIAB]', '\"contradictory+reports\"[TIAB] AND \"off-label\"[TIAB]', '\"contradictory+reports\"[TIAB] AND \"general+conclusion\"[TIAB]', '\"contradictory+reports\"[TIAB] AND \"generalized+conclusion\"[TIAB]', '\"contradictory+reports\"[TIAB] AND \"sub-threshold\"[TIAB]', '\"contradictory+reports\"[TIAB] AND \"Contamination\"[TIAB]', '\"contradictory+reports\"[TIAB] AND \"Bio-identical\"[TIAB]']\n"
     ]
    }
   ],
   "source": [
    "contradictoryReports = ('\"contradictory+reports\"[TIAB] AND \"' + Q + '\"[TIAB]' for Q in queryTerms)\n",
    "contradictoryReportsList = ['\"contradictory+reports\"[TIAB] AND \"' + Q +'\"[TIAB]' for Q in queryTerms]\n",
    "print(contradictoryReportsList)\n"
   ]
  },
  {
   "cell_type": "code",
   "execution_count": 4,
   "metadata": {},
   "outputs": [
    {
     "name": "stdout",
     "output_type": "stream",
     "text": [
      "['12', '10', '14', '1', '1', '0', '3', '0', '0', '0', '15', '14', '1', '9', '8', '2', '0', '2', '30', '1', '1', '0', '0', '2', '2', '6', '2', '0', '1', '2', '4', '0', '0', '0', '0', '1', '1', '1', '6', '0', '2', '0', '0', '1', '0', '0', '0', '0', '0', '0', '0', '4', '0']\n"
     ]
    }
   ],
   "source": [
    "from Bio import Entrez\n",
    "Entrez.email = \"scientistbleu@gmail.com\"\n",
    "contradictoryReportsCount = []\n",
    "for r in contradictoryReports:\n",
    "    handle = Entrez.esearch(db = \"pubmed\", term = r, retmax = 100000)\n",
    "    record = Entrez.read(handle)\n",
    "    count = record[\"Count\"]\n",
    "    contradictoryReportsCount.append(count)\n",
    "print(contradictoryReportsCount)"
   ]
  },
  {
   "cell_type": "code",
   "execution_count": 5,
   "metadata": {},
   "outputs": [
    {
     "data": {
      "text/plain": [
       "{'\"contradictory+reports\"[TIAB] AND \" in-vitro+in-vivo+correlation\"[TIAB]': '0',\n",
       " '\"contradictory+reports\"[TIAB] AND \"Animal model\"[TIAB]': '1',\n",
       " '\"contradictory+reports\"[TIAB] AND \"Antibody\"[TIAB]': '14',\n",
       " '\"contradictory+reports\"[TIAB] AND \"Bio-identical\"[TIAB]': '0',\n",
       " '\"contradictory+reports\"[TIAB] AND \"Cell+line\"[TIAB]': '12',\n",
       " '\"contradictory+reports\"[TIAB] AND \"Clinical+Trials\"[TIAB]': '6',\n",
       " '\"contradictory+reports\"[TIAB] AND \"Clone\"[TIAB]': '1',\n",
       " '\"contradictory+reports\"[TIAB] AND \"Conflict+of+Interest \"[TIAB]': '0',\n",
       " '\"contradictory+reports\"[TIAB] AND \"Contamination\"[TIAB]': '4',\n",
       " '\"contradictory+reports\"[TIAB] AND \"Dose-dependent\"[TIAB]': '10',\n",
       " '\"contradictory+reports\"[TIAB] AND \"Gender\"[TIAB]': '8',\n",
       " '\"contradictory+reports\"[TIAB] AND \"Positive+control\"[TIAB]': '2',\n",
       " '\"contradictory+reports\"[TIAB] AND \"Questionairre\"[TIAB]': '0',\n",
       " '\"contradictory+reports\"[TIAB] AND \"Reproducibility\"[TIAB]': '3',\n",
       " '\"contradictory+reports\"[TIAB] AND \"Reproducible+Results\"[TIAB]': '0',\n",
       " '\"contradictory+reports\"[TIAB] AND \"Sensitivity\"[TIAB]': '30',\n",
       " '\"contradictory+reports\"[TIAB] AND \"Specificity\"[TIAB]': '15',\n",
       " '\"contradictory+reports\"[TIAB] AND \"Strain\"[TIAB]': '9',\n",
       " '\"contradictory+reports\"[TIAB] AND \"Survey\"[TIAB]': '2',\n",
       " '\"contradictory+reports\"[TIAB] AND \"animal+Model \"[TIAB]': '1',\n",
       " '\"contradictory+reports\"[TIAB] AND \"bioavailability\"[TIAB]': '1',\n",
       " '\"contradictory+reports\"[TIAB] AND \"bioavailable\"[TIAB]': '0',\n",
       " '\"contradictory+reports\"[TIAB] AND \"case+study\"[TIAB]': '1',\n",
       " '\"contradictory+reports\"[TIAB] AND \"coaching\"[TIAB]': '0',\n",
       " '\"contradictory+reports\"[TIAB] AND \"confounding+factor\"[TIAB]': '0',\n",
       " '\"contradictory+reports\"[TIAB] AND \"data+quality\"[TIAB]': '0',\n",
       " '\"contradictory+reports\"[TIAB] AND \"dosage\"[TIAB]': '4',\n",
       " '\"contradictory+reports\"[TIAB] AND \"dosing\"[TIAB]': '2',\n",
       " '\"contradictory+reports\"[TIAB] AND \"drug+interaction\"[TIAB]': '0',\n",
       " '\"contradictory+reports\"[TIAB] AND \"general+conclusion\"[TIAB]': '0',\n",
       " '\"contradictory+reports\"[TIAB] AND \"generalized+conclusion\"[TIAB]': '0',\n",
       " '\"contradictory+reports\"[TIAB] AND \"human+error\"[TIAB]': '0',\n",
       " '\"contradictory+reports\"[TIAB] AND \"indirect+measurement\"[TIAB]': '0',\n",
       " '\"contradictory+reports\"[TIAB] AND \"insufficient+information\"[TIAB]': '0',\n",
       " '\"contradictory+reports\"[TIAB] AND \"long+term+study\"[TIAB]': '0',\n",
       " '\"contradictory+reports\"[TIAB] AND \"misinterpretation\"[TIAB]': '1',\n",
       " '\"contradictory+reports\"[TIAB] AND \"off-label\"[TIAB]': '0',\n",
       " '\"contradictory+reports\"[TIAB] AND \"omission\"[TIAB]': '2',\n",
       " '\"contradictory+reports\"[TIAB] AND \"phase+III+trials\"[TIAB]': '0',\n",
       " '\"contradictory+reports\"[TIAB] AND \"pilot+study\"[TIAB]': '1',\n",
       " '\"contradictory+reports\"[TIAB] AND \"placebo\"[TIAB]': '6',\n",
       " '\"contradictory+reports\"[TIAB] AND \"plasmid\"[TIAB]': '2',\n",
       " '\"contradictory+reports\"[TIAB] AND \"poor+quality\"[TIAB]': '1',\n",
       " '\"contradictory+reports\"[TIAB] AND \"qualitative+data\"[TIAB]': '0',\n",
       " '\"contradictory+reports\"[TIAB] AND \"quality\"[TIAB]': '14',\n",
       " '\"contradictory+reports\"[TIAB] AND \"short +term + study\"[TIAB]': '0',\n",
       " '\"contradictory+reports\"[TIAB] AND \"side+effects\"[TIAB]': '2',\n",
       " '\"contradictory+reports\"[TIAB] AND \"speculation\"[TIAB]': '1',\n",
       " '\"contradictory+reports\"[TIAB] AND \"sub-threshold\"[TIAB]': '0',\n",
       " '\"contradictory+reports\"[TIAB] AND \"survey\"[TIAB]': '2',\n",
       " '\"contradictory+reports\"[TIAB] AND \"transparency\"[TIAB]': '0',\n",
       " '\"contradictory+reports\"[TIAB] AND \"wrong+conclusion\"[TIAB]': '0'}"
      ]
     },
     "execution_count": 5,
     "metadata": {},
     "output_type": "execute_result"
    }
   ],
   "source": [
    "countContradictoryReports = dict(zip(contradictoryReportsList, contradictoryReportsCount))\n",
    "countContradictoryReports"
   ]
  },
  {
   "cell_type": "code",
   "execution_count": 6,
   "metadata": {},
   "outputs": [
    {
     "name": "stdout",
     "output_type": "stream",
     "text": [
      "{'\"contradictory+reports\"[TIAB] AND \"poor+quality\"[TIAB]': ['24914325'], '\"contradictory+reports\"[TIAB] AND \"pilot+study\"[TIAB]': ['15310638'], '\"contradictory+reports\"[TIAB] AND \"insufficient+information\"[TIAB]': [], '\"contradictory+reports\"[TIAB] AND \"data+quality\"[TIAB]': [], '\"contradictory+reports\"[TIAB] AND \"general+conclusion\"[TIAB]': [], '\"contradictory+reports\"[TIAB] AND \"phase+III+trials\"[TIAB]': [], '\"contradictory+reports\"[TIAB] AND \"Sensitivity\"[TIAB]': ['28739528', '28490351', '28461139', '27258377', '25865982', '25709540', '24997879', '23993897', '24551762', '22201871', '20203199', '20139065', '19183815', '18172430', '18088022', '17369548', '17229085', '16083348', '12970254', '11925110', '11300328', '11278745', '10850597', '10654948', '10404407', '9833582', '3135318', '7464844', '153319', '5322755'], '\"contradictory+reports\"[TIAB] AND \"bioavailable\"[TIAB]': [], '\"contradictory+reports\"[TIAB] AND \"Gender\"[TIAB]': ['29110804', '25467622', '23184911', '19842933', '17392048', '16350817', '15459532', '14706483'], '\"contradictory+reports\"[TIAB] AND \"dosage\"[TIAB]': ['27633038', '24083141', '17392048', '18415209'], '\"contradictory+reports\"[TIAB] AND \"Reproducible+Results\"[TIAB]': [], '\"contradictory+reports\"[TIAB] AND \"Cell+line\"[TIAB]': ['25713979', '25002532', '23252683', '22761943', '21374593', '19106624', '10358069', '9332732', '9315112', '8144511', '2555197', '3135318'], '\"contradictory+reports\"[TIAB] AND \"animal+Model \"[TIAB]': ['24649508'], '\"contradictory+reports\"[TIAB] AND \"Antibody\"[TIAB]': ['25706384', '25620498', '21156795', '19649704', '7760001', '17590699', '8370668', '2124983', '2376089', '2555197', '3198734', '3135318', '583403', '5322755'], '\"contradictory+reports\"[TIAB] AND \"transparency\"[TIAB]': [], '\"contradictory+reports\"[TIAB] AND \" in-vitro+in-vivo+correlation\"[TIAB]': [], '\"contradictory+reports\"[TIAB] AND \"Clinical+Trials\"[TIAB]': ['28713515', '23808779', '21603581', '17438017', '17216393', '15379604'], '\"contradictory+reports\"[TIAB] AND \"placebo\"[TIAB]': ['29128558', '28713515', '25353174', '25091820', '16503402', '9209174'], '\"contradictory+reports\"[TIAB] AND \"human+error\"[TIAB]': [], '\"contradictory+reports\"[TIAB] AND \"short +term + study\"[TIAB]': [], '\"contradictory+reports\"[TIAB] AND \"survey\"[TIAB]': ['29110804', '1730748'], '\"contradictory+reports\"[TIAB] AND \"quality\"[TIAB]': ['26753482', '26345679', '26093697', '24914325', '22096275', '21677474', '21253373', '19181741', '17636774', '16861701', '16208500', '12561595', '9550023', '5322755'], '\"contradictory+reports\"[TIAB] AND \"drug+interaction\"[TIAB]': [], '\"contradictory+reports\"[TIAB] AND \"Positive+control\"[TIAB]': ['23668247', '11857540'], '\"contradictory+reports\"[TIAB] AND \"coaching\"[TIAB]': [], '\"contradictory+reports\"[TIAB] AND \"case+study\"[TIAB]': ['22701329'], '\"contradictory+reports\"[TIAB] AND \"omission\"[TIAB]': ['27558024', '2571241'], '\"contradictory+reports\"[TIAB] AND \"misinterpretation\"[TIAB]': ['26345679'], '\"contradictory+reports\"[TIAB] AND \"indirect+measurement\"[TIAB]': [], '\"contradictory+reports\"[TIAB] AND \"qualitative+data\"[TIAB]': [], '\"contradictory+reports\"[TIAB] AND \"bioavailability\"[TIAB]': ['6613216'], '\"contradictory+reports\"[TIAB] AND \"Specificity\"[TIAB]': ['28490351', '25709540', '25706384', '23993897', '22201871', '19528164', '18042067', '12970254', '12754093', '12464266', '11300328', '10654948', '9833582', '1730748', '153319'], '\"contradictory+reports\"[TIAB] AND \"Survey\"[TIAB]': ['29110804', '1730748'], '\"contradictory+reports\"[TIAB] AND \"Contamination\"[TIAB]': ['28753286', '20191371', '17369548', '3590192'], '\"contradictory+reports\"[TIAB] AND \"long+term+study\"[TIAB]': [], '\"contradictory+reports\"[TIAB] AND \"confounding+factor\"[TIAB]': [], '\"contradictory+reports\"[TIAB] AND \"wrong+conclusion\"[TIAB]': [], '\"contradictory+reports\"[TIAB] AND \"speculation\"[TIAB]': ['1379165'], '\"contradictory+reports\"[TIAB] AND \"sub-threshold\"[TIAB]': [], '\"contradictory+reports\"[TIAB] AND \"Dose-dependent\"[TIAB]': ['28196456', '27710012', '25249838', '24579548', '19240369', '17651700', '17392048', '11157806', '10835047', '1379165'], '\"contradictory+reports\"[TIAB] AND \"off-label\"[TIAB]': [], '\"contradictory+reports\"[TIAB] AND \"dosing\"[TIAB]': ['29029067', '1397799'], '\"contradictory+reports\"[TIAB] AND \"Reproducibility\"[TIAB]': ['17369548', '19662221', '15673323'], '\"contradictory+reports\"[TIAB] AND \"Strain\"[TIAB]': ['28739528', '24649508', '24083141', '20026229', '19397200', '19183815', '11857540', '2404951', '6300315'], '\"contradictory+reports\"[TIAB] AND \"Clone\"[TIAB]': ['20137987'], '\"contradictory+reports\"[TIAB] AND \"Conflict+of+Interest \"[TIAB]': [], '\"contradictory+reports\"[TIAB] AND \"generalized+conclusion\"[TIAB]': [], '\"contradictory+reports\"[TIAB] AND \"side+effects\"[TIAB]': ['15738861', '18415209'], '\"contradictory+reports\"[TIAB] AND \"Questionairre\"[TIAB]': [], '\"contradictory+reports\"[TIAB] AND \"plasmid\"[TIAB]': ['25822588', '8144511'], '\"contradictory+reports\"[TIAB] AND \"Bio-identical\"[TIAB]': [], '\"contradictory+reports\"[TIAB] AND \"Animal model\"[TIAB]': ['24649508']}\n"
     ]
    }
   ],
   "source": [
    "from Bio import Entrez\n",
    "Entrez.email = \"happylittleaccident@gmail.com\"\n",
    "#creates open dictionary to store PMID with query term\n",
    "contradictoryReportsID = {}\n",
    "def getContradictoryReportsIDs(QTs):\n",
    "    terms = ('\"contradictory+reports\"' +'[TIAB] AND \"' + Q + '\"[TIAB]' for Q in QTs)\n",
    "    termList = ['\"contradictory+reports\"' +'[TIAB] AND \"' + Q + '\"[TIAB]' for Q in QTs]\n",
    "    for t in terms:\n",
    "        handle = Entrez.esearch(db = \"pubmed\", term = t, retmax = 100000)\n",
    "        record = Entrez.read(handle)\n",
    "        PMIDS = record[\"IdList\"]\n",
    "        contradictoryReportsID[t] = PMIDS\n",
    "\n",
    "getContradictoryReportsIDs(queryTerms)\n",
    "print(contradictoryReportsID)\n"
   ]
  },
  {
   "cell_type": "code",
   "execution_count": 7,
   "metadata": {},
   "outputs": [
    {
     "data": {
      "text/plain": [
       "[['24914325'],\n",
       " ['15310638'],\n",
       " [],\n",
       " [],\n",
       " [],\n",
       " [],\n",
       " ['28739528', '28490351', '28461139', '27258377', '25865982', '25709540', '24997879', '23993897', '24551762', '22201871', '20203199', '20139065', '19183815', '18172430', '18088022', '17369548', '17229085', '16083348', '12970254', '11925110', '11300328', '11278745', '10850597', '10654948', '10404407', '9833582', '3135318', '7464844', '153319', '5322755'],\n",
       " [],\n",
       " ['29110804', '25467622', '23184911', '19842933', '17392048', '16350817', '15459532', '14706483'],\n",
       " ['27633038', '24083141', '17392048', '18415209'],\n",
       " [],\n",
       " ['25713979', '25002532', '23252683', '22761943', '21374593', '19106624', '10358069', '9332732', '9315112', '8144511', '2555197', '3135318'],\n",
       " ['24649508'],\n",
       " ['25706384', '25620498', '21156795', '19649704', '7760001', '17590699', '8370668', '2124983', '2376089', '2555197', '3198734', '3135318', '583403', '5322755'],\n",
       " [],\n",
       " [],\n",
       " ['28713515', '23808779', '21603581', '17438017', '17216393', '15379604'],\n",
       " ['29128558', '28713515', '25353174', '25091820', '16503402', '9209174'],\n",
       " [],\n",
       " [],\n",
       " ['29110804', '1730748'],\n",
       " ['26753482', '26345679', '26093697', '24914325', '22096275', '21677474', '21253373', '19181741', '17636774', '16861701', '16208500', '12561595', '9550023', '5322755'],\n",
       " [],\n",
       " ['23668247', '11857540'],\n",
       " [],\n",
       " ['22701329'],\n",
       " ['27558024', '2571241'],\n",
       " ['26345679'],\n",
       " [],\n",
       " [],\n",
       " ['6613216'],\n",
       " ['28490351', '25709540', '25706384', '23993897', '22201871', '19528164', '18042067', '12970254', '12754093', '12464266', '11300328', '10654948', '9833582', '1730748', '153319'],\n",
       " ['29110804', '1730748'],\n",
       " ['28753286', '20191371', '17369548', '3590192'],\n",
       " [],\n",
       " [],\n",
       " [],\n",
       " ['1379165'],\n",
       " [],\n",
       " ['28196456', '27710012', '25249838', '24579548', '19240369', '17651700', '17392048', '11157806', '10835047', '1379165'],\n",
       " [],\n",
       " ['29029067', '1397799'],\n",
       " ['17369548', '19662221', '15673323'],\n",
       " ['28739528', '24649508', '24083141', '20026229', '19397200', '19183815', '11857540', '2404951', '6300315'],\n",
       " ['20137987'],\n",
       " [],\n",
       " [],\n",
       " ['15738861', '18415209'],\n",
       " [],\n",
       " ['25822588', '8144511'],\n",
       " [],\n",
       " ['24649508']]"
      ]
     },
     "execution_count": 7,
     "metadata": {},
     "output_type": "execute_result"
    }
   ],
   "source": [
    "contradictoryReportsID.values()"
   ]
  },
  {
   "cell_type": "code",
   "execution_count": 8,
   "metadata": {},
   "outputs": [
    {
     "name": "stdout",
     "output_type": "stream",
     "text": [
      "{'\"contradictory+reports\"[TIAB] AND \"poor+quality\"[TIAB]': '1', '\"contradictory+reports\"[TIAB] AND \"pilot+study\"[TIAB]': '1', '\"contradictory+reports\"[TIAB] AND \"insufficient+information\"[TIAB]': '0', '\"contradictory+reports\"[TIAB] AND \"data+quality\"[TIAB]': '0', '\"contradictory+reports\"[TIAB] AND \"general+conclusion\"[TIAB]': '0', '\"contradictory+reports\"[TIAB] AND \"phase+III+trials\"[TIAB]': '0', '\"contradictory+reports\"[TIAB] AND \"Sensitivity\"[TIAB]': '30', '\"contradictory+reports\"[TIAB] AND \"bioavailable\"[TIAB]': '0', '\"contradictory+reports\"[TIAB] AND \"Gender\"[TIAB]': '8', '\"contradictory+reports\"[TIAB] AND \"dosage\"[TIAB]': '4', '\"contradictory+reports\"[TIAB] AND \"Reproducible+Results\"[TIAB]': '0', '\"contradictory+reports\"[TIAB] AND \"Cell+line\"[TIAB]': '12', '\"contradictory+reports\"[TIAB] AND \"animal+Model \"[TIAB]': '1', '\"contradictory+reports\"[TIAB] AND \"Antibody\"[TIAB]': '14', '\"contradictory+reports\"[TIAB] AND \"transparency\"[TIAB]': '0', '\"contradictory+reports\"[TIAB] AND \" in-vitro+in-vivo+correlation\"[TIAB]': '0', '\"contradictory+reports\"[TIAB] AND \"Clinical+Trials\"[TIAB]': '6', '\"contradictory+reports\"[TIAB] AND \"placebo\"[TIAB]': '6', '\"contradictory+reports\"[TIAB] AND \"human+error\"[TIAB]': '0', '\"contradictory+reports\"[TIAB] AND \"short +term + study\"[TIAB]': '0', '\"contradictory+reports\"[TIAB] AND \"survey\"[TIAB]': '2', '\"contradictory+reports\"[TIAB] AND \"quality\"[TIAB]': '14', '\"contradictory+reports\"[TIAB] AND \"drug+interaction\"[TIAB]': '0', '\"contradictory+reports\"[TIAB] AND \"Positive+control\"[TIAB]': '2', '\"contradictory+reports\"[TIAB] AND \"coaching\"[TIAB]': '0', '\"contradictory+reports\"[TIAB] AND \"case+study\"[TIAB]': '1', '\"contradictory+reports\"[TIAB] AND \"omission\"[TIAB]': '2', '\"contradictory+reports\"[TIAB] AND \"misinterpretation\"[TIAB]': '1', '\"contradictory+reports\"[TIAB] AND \"indirect+measurement\"[TIAB]': '0', '\"contradictory+reports\"[TIAB] AND \"qualitative+data\"[TIAB]': '0', '\"contradictory+reports\"[TIAB] AND \"bioavailability\"[TIAB]': '1', '\"contradictory+reports\"[TIAB] AND \"Specificity\"[TIAB]': '15', '\"contradictory+reports\"[TIAB] AND \"Survey\"[TIAB]': '2', '\"contradictory+reports\"[TIAB] AND \"Contamination\"[TIAB]': '4', '\"contradictory+reports\"[TIAB] AND \"long+term+study\"[TIAB]': '0', '\"contradictory+reports\"[TIAB] AND \"confounding+factor\"[TIAB]': '0', '\"contradictory+reports\"[TIAB] AND \"wrong+conclusion\"[TIAB]': '0', '\"contradictory+reports\"[TIAB] AND \"speculation\"[TIAB]': '1', '\"contradictory+reports\"[TIAB] AND \"sub-threshold\"[TIAB]': '0', '\"contradictory+reports\"[TIAB] AND \"Dose-dependent\"[TIAB]': '10', '\"contradictory+reports\"[TIAB] AND \"off-label\"[TIAB]': '0', '\"contradictory+reports\"[TIAB] AND \"dosing\"[TIAB]': '2', '\"contradictory+reports\"[TIAB] AND \"Reproducibility\"[TIAB]': '3', '\"contradictory+reports\"[TIAB] AND \"Strain\"[TIAB]': '9', '\"contradictory+reports\"[TIAB] AND \"Clone\"[TIAB]': '1', '\"contradictory+reports\"[TIAB] AND \"Conflict+of+Interest \"[TIAB]': '0', '\"contradictory+reports\"[TIAB] AND \"generalized+conclusion\"[TIAB]': '0', '\"contradictory+reports\"[TIAB] AND \"side+effects\"[TIAB]': '2', '\"contradictory+reports\"[TIAB] AND \"Questionairre\"[TIAB]': '0', '\"contradictory+reports\"[TIAB] AND \"plasmid\"[TIAB]': '2', '\"contradictory+reports\"[TIAB] AND \"Bio-identical\"[TIAB]': '0', '\"contradictory+reports\"[TIAB] AND \"Animal model\"[TIAB]': '1'}\n"
     ]
    }
   ],
   "source": [
    "from Bio import Entrez\n",
    "Entrez.email = \"scientistbleu@gmail.com\"\n",
    "contradictoryReportsCounts = {}\n",
    "def getContradictoryReportsCounts(QTs):\n",
    "    terms = ('\"contradictory+reports\"' +'[TIAB] AND \"' + Q + '\"[TIAB]' for Q in QTs)\n",
    "    termList = ['\"contradictory+reports\"' +'[TIAB] AND \"' + Q + '\"[TIAB]' for Q in QTs]\n",
    "    for t in terms:\n",
    "        handle = Entrez.esearch(db = \"pubmed\", term = t, retmax = 100000)\n",
    "        record = Entrez.read(handle)\n",
    "        PMIDS = record[\"IdList\"]\n",
    "        contradictoryReportsID[t] = PMIDS\n",
    "        counts = record[\"Count\"]\n",
    "        contradictoryReportsCounts[t] = counts\n",
    "getContradictoryReportsCounts(queryTerms)\n",
    "print(contradictoryReportsCounts)"
   ]
  },
  {
   "cell_type": "code",
   "execution_count": null,
   "metadata": {
    "collapsed": true
   },
   "outputs": [],
   "source": []
  }
 ],
 "metadata": {
  "kernelspec": {
   "display_name": "Python 2",
   "language": "python",
   "name": "python2"
  },
  "language_info": {
   "codemirror_mode": {
    "name": "ipython",
    "version": 2
   },
   "file_extension": ".py",
   "mimetype": "text/x-python",
   "name": "python",
   "nbconvert_exporter": "python",
   "pygments_lexer": "ipython2",
   "version": "2.7.13"
  }
 },
 "nbformat": 4,
 "nbformat_minor": 2
}
