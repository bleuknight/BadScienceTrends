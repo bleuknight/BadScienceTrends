{
 "cells": [
  {
   "cell_type": "code",
   "execution_count": 1,
   "metadata": {
    "collapsed": true
   },
   "outputs": [],
   "source": [
    "import pandas as pd\n",
    "\n",
    "#this is the file which links contains all query terms\n",
    "terms = pd.read_csv(\"queryTerms.csv\")\n",
    "queryTerms = list(terms['term1'])\n"
   ]
  },
  {
   "cell_type": "code",
   "execution_count": 2,
   "metadata": {},
   "outputs": [
    {
     "data": {
      "text/plain": [
       "['Cell line',\n",
       " 'Dose-dependent',\n",
       " 'quality',\n",
       " 'case study',\n",
       " 'pilot study',\n",
       " 'data quality',\n",
       " 'Reproducibility',\n",
       " 'Reproducible Results',\n",
       " 'transparency',\n",
       " 'insufficient information',\n",
       " 'Specificity',\n",
       " 'Antibody',\n",
       " 'Clone',\n",
       " 'Strain',\n",
       " 'Gender',\n",
       " 'Positive control',\n",
       " 'Questionairre',\n",
       " 'Survey',\n",
       " 'Sensitivity',\n",
       " 'Animal model',\n",
       " 'animal Model ',\n",
       " 'short term study',\n",
       " 'long term study',\n",
       " 'omission',\n",
       " 'plasmid',\n",
       " 'Clinical Trials',\n",
       " 'side effects',\n",
       " 'drug interaction',\n",
       " 'poor quality',\n",
       " 'dosing',\n",
       " 'dosage',\n",
       " 'human error',\n",
       " ' in-vitro in-vivo correlation',\n",
       " 'indirect measurement',\n",
       " 'confounding factor',\n",
       " 'misinterpretation',\n",
       " 'speculation',\n",
       " 'case study',\n",
       " 'placebo',\n",
       " 'qualitative data',\n",
       " 'survey',\n",
       " 'phase III trials',\n",
       " 'bioavailable',\n",
       " 'bioavailability',\n",
       " 'coaching',\n",
       " 'Conflict of Interest ',\n",
       " 'wrong conclusion',\n",
       " 'off-label',\n",
       " 'general conclusion',\n",
       " 'generalized conclusion',\n",
       " 'sub-threshold',\n",
       " 'Contamination',\n",
       " 'Bio-identical']"
      ]
     },
     "execution_count": 2,
     "metadata": {},
     "output_type": "execute_result"
    }
   ],
   "source": [
    "queryTerms"
   ]
  },
  {
   "cell_type": "code",
   "execution_count": 6,
   "metadata": {},
   "outputs": [
    {
     "ename": "ImportError",
     "evalue": "No module named Bio",
     "output_type": "error",
     "traceback": [
      "\u001b[1;31m---------------------------------------------------------------------------\u001b[0m",
      "\u001b[1;31mImportError\u001b[0m                               Traceback (most recent call last)",
      "\u001b[1;32m<ipython-input-6-be0abb52fa71>\u001b[0m in \u001b[0;36m<module>\u001b[1;34m()\u001b[0m\n\u001b[1;32m----> 1\u001b[1;33m \u001b[1;32mfrom\u001b[0m \u001b[0mBio\u001b[0m \u001b[1;32mimport\u001b[0m \u001b[0mEntrez\u001b[0m\u001b[1;33m\u001b[0m\u001b[0m\n\u001b[0m\u001b[0;32m      2\u001b[0m \u001b[0mhandle\u001b[0m \u001b[1;33m=\u001b[0m \u001b[0mEntrez\u001b[0m\u001b[1;33m.\u001b[0m\u001b[0meinfo\u001b[0m\u001b[1;33m(\u001b[0m\u001b[0mdb\u001b[0m\u001b[1;33m=\u001b[0m\u001b[1;34m\"pubmed\"\u001b[0m\u001b[1;33m)\u001b[0m\u001b[1;33m\u001b[0m\u001b[0m\n\u001b[0;32m      3\u001b[0m \u001b[0mrecord\u001b[0m \u001b[1;33m=\u001b[0m \u001b[0mEntrez\u001b[0m\u001b[1;33m.\u001b[0m\u001b[0mread\u001b[0m\u001b[1;33m(\u001b[0m\u001b[0mhandle\u001b[0m\u001b[1;33m)\u001b[0m\u001b[1;33m\u001b[0m\u001b[0m\n\u001b[0;32m      4\u001b[0m \u001b[1;33m[\u001b[0m\u001b[1;34m\"DbInfo\"\u001b[0m\u001b[1;33m]\u001b[0m\u001b[1;33m.\u001b[0m\u001b[0mkeys\u001b[0m\u001b[1;33m(\u001b[0m\u001b[1;33m)\u001b[0m\u001b[1;33m\u001b[0m\u001b[0m\n",
      "\u001b[1;31mImportError\u001b[0m: No module named Bio"
     ]
    }
   ],
   "source": [
    "from Bio import Entrez\n",
    "handle = Entrez.einfo(db=\"pubmed\")\n",
    "record = Entrez.read(handle)\n",
    "[\"DbInfo\"].keys() "
   ]
  },
  {
   "cell_type": "code",
   "execution_count": null,
   "metadata": {
    "collapsed": true
   },
   "outputs": [],
   "source": [
    "for other information stored in this record. One of the most useful is a list of possible search fields for use with ESearch:\n",
    "\n",
    ">>> for field in record[\"DbInfo\"][\"FieldList\"]:\n",
    "...     print(\"%(Name)s, %(FullName)s, %(Description)s\" % field)"
   ]
  },
  {
   "cell_type": "code",
   "execution_count": 4,
   "metadata": {},
   "outputs": [
    {
     "data": {
      "text/plain": [
       "53"
      ]
     },
     "execution_count": 4,
     "metadata": {},
     "output_type": "execute_result"
    }
   ],
   "source": [
    "for Q in queryTerms\n",
    "term = 'retracted[Title/Abstract] AND '.join(map(str, queryTerms))\n"
   ]
  },
  {
   "cell_type": "code",
   "execution_count": null,
   "metadata": {
    "collapsed": true
   },
   "outputs": [],
   "source": [
    "from Bio import Entrez\n",
    "#creates open dictionary to store PMID with query term\n",
    "pubDict = {}\n",
    "\n",
    "#creates list to store queries wihtout PMIDs\n",
    "withoutPub = []\n",
    "\n",
    "Entrez.email = \"scientistbleu@gmail.com\"\n",
    "for Q in queryTerms:\n",
    "    handle = Entrez.esearch(db = \"pubmed\", term = term, field)\n",
    "handle = Entrez.efetch(db=\"pubmed\", id=','.join(map(str, split4)),\n",
    "                       rettype=\"xml\", retmode=\"text\")\n",
    "records = Entrez.read(handle)\n",
    "for pubmed_article in records['PubmedArticle']:\n",
    "    pmid = int(str(pubmed_article['MedlineCitation']['PMID']))\n",
    "    article = pubmed_article['MedlineCitation']['Article']\n",
    "    if 'Abstract' in article:\n",
    "        abstract = article['Abstract']['AbstractText'][0]\n",
    "        abstract_dict[pmid] = abstract\n",
    "    else:\n",
    "       withoutPub.append(pmid)\n",
    "\n",
    "print(abstract_dict)"
   ]
  }
 ],
 "metadata": {
  "kernelspec": {
   "display_name": "Python 2",
   "language": "python",
   "name": "python2"
  },
  "language_info": {
   "codemirror_mode": {
    "name": "ipython",
    "version": 2
   },
   "file_extension": ".py",
   "mimetype": "text/x-python",
   "name": "python",
   "nbconvert_exporter": "python",
   "pygments_lexer": "ipython2",
   "version": "2.7.13"
  }
 },
 "nbformat": 4,
 "nbformat_minor": 2
}
