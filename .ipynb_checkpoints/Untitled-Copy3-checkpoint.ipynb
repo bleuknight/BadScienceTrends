{
 "cells": [
  {
   "cell_type": "code",
   "execution_count": 1,
   "metadata": {
    "collapsed": true
   },
   "outputs": [],
   "source": [
    "import pandas as pd\n",
    "\n",
    "#this is the file which links contains all query terms\n",
    "terms = pd.read_csv(\"queryTerms.csv\")\n",
    "queryTerms = list(terms['term1'])\n"
   ]
  },
  {
   "cell_type": "code",
   "execution_count": 2,
   "metadata": {},
   "outputs": [
    {
     "data": {
      "text/plain": [
       "['Cell+line',\n",
       " 'Dose-dependent',\n",
       " 'quality',\n",
       " 'case+study',\n",
       " 'pilot+study',\n",
       " 'data+quality',\n",
       " 'Reproducibility',\n",
       " 'Reproducible+Results',\n",
       " 'transparency',\n",
       " 'insufficient+information',\n",
       " 'Specificity',\n",
       " 'Antibody',\n",
       " 'Clone',\n",
       " 'Strain',\n",
       " 'Gender',\n",
       " 'Positive+control',\n",
       " 'Questionairre',\n",
       " 'Survey',\n",
       " 'Sensitivity',\n",
       " 'Animal model',\n",
       " 'animal+Model ',\n",
       " 'short +term + study',\n",
       " 'long+term+study',\n",
       " 'omission',\n",
       " 'plasmid',\n",
       " 'Clinical+Trials',\n",
       " 'side+effects',\n",
       " 'drug+interaction',\n",
       " 'poor+quality',\n",
       " 'dosing',\n",
       " 'dosage',\n",
       " 'human+error',\n",
       " ' in-vitro+in-vivo+correlation',\n",
       " 'indirect+measurement',\n",
       " 'confounding+factor',\n",
       " 'misinterpretation',\n",
       " 'speculation',\n",
       " 'case+study',\n",
       " 'placebo',\n",
       " 'qualitative+data',\n",
       " 'survey',\n",
       " 'phase+III+trials',\n",
       " 'bioavailable',\n",
       " 'bioavailability',\n",
       " 'coaching',\n",
       " 'Conflict+of+Interest ',\n",
       " 'wrong+conclusion',\n",
       " 'off-label',\n",
       " 'general+conclusion',\n",
       " 'generalized+conclusion',\n",
       " 'sub-threshold',\n",
       " 'Contamination',\n",
       " 'Bio-identical']"
      ]
     },
     "execution_count": 2,
     "metadata": {},
     "output_type": "execute_result"
    }
   ],
   "source": [
    "queryTerms"
   ]
  },
  {
   "cell_type": "code",
   "execution_count": 3,
   "metadata": {},
   "outputs": [
    {
     "data": {
      "text/plain": [
       "[u'Count',\n",
       " u'LastUpdate',\n",
       " u'MenuName',\n",
       " u'Description',\n",
       " u'LinkList',\n",
       " u'DbBuild',\n",
       " u'FieldList',\n",
       " u'DbName']"
      ]
     },
     "execution_count": 3,
     "metadata": {},
     "output_type": "execute_result"
    }
   ],
   "source": [
    "from Bio import Entrez\n",
    "Entrez.email = \"scientistbleu@gmail.com\"\n",
    "handle = Entrez.einfo(db=\"pubmed\")\n",
    "record = Entrez.read(handle)\n",
    "record[\"DbInfo\"].keys() "
   ]
  },
  {
   "cell_type": "code",
   "execution_count": 4,
   "metadata": {},
   "outputs": [
    {
     "name": "stdout",
     "output_type": "stream",
     "text": [
      "ALL, All Fields, All terms from all searchable fields\n",
      "UID, UID, Unique number assigned to publication\n",
      "FILT, Filter, Limits the records\n",
      "TITL, Title, Words in title of publication\n",
      "WORD, Text Word, Free text associated with publication\n",
      "MESH, MeSH Terms, Medical Subject Headings assigned to publication\n",
      "MAJR, MeSH Major Topic, MeSH terms of major importance to publication\n",
      "AUTH, Author, Author(s) of publication\n",
      "JOUR, Journal, Journal abbreviation of publication\n",
      "AFFL, Affiliation, Author's institutional affiliation and address\n",
      "ECNO, EC/RN Number, EC number for enzyme or CAS registry number\n",
      "SUBS, Supplementary Concept, CAS chemical name or MEDLINE Substance Name\n",
      "PDAT, Date - Publication, Date of publication\n",
      "EDAT, Date - Entrez, Date publication first accessible through Entrez\n",
      "VOL, Volume, Volume number of publication\n",
      "PAGE, Pagination, Page number(s) of publication\n",
      "PTYP, Publication Type, Type of publication (e.g., review)\n",
      "LANG, Language, Language of publication\n",
      "ISS, Issue, Issue number of publication\n",
      "SUBH, MeSH Subheading, Additional specificity for MeSH term\n",
      "SI, Secondary Source ID, Cross-reference from publication to other databases\n",
      "MHDA, Date - MeSH, Date publication was indexed with MeSH terms\n",
      "TIAB, Title/Abstract, Free text associated with Abstract/Title\n",
      "OTRM, Other Term, Other terms associated with publication\n",
      "INVR, Investigator, Investigator\n",
      "COLN, Author - Corporate, Corporate Author of publication\n",
      "CNTY, Place of Publication, Country of publication\n",
      "PAPX, Pharmacological Action, MeSH pharmacological action pre-explosions\n",
      "GRNT, Grant Number, NIH Grant Numbers\n",
      "MDAT, Date - Modification, Date of last modification\n",
      "CDAT, Date - Completion, Date of completion\n",
      "PID, Publisher ID, Publisher ID\n",
      "FAUT, Author - First, First Author of publication\n",
      "FULL, Author - Full, Full Author Name(s) of publication\n",
      "FINV, Investigator - Full, Full name of investigator\n",
      "TT, Transliterated Title, Words in transliterated title of publication\n",
      "LAUT, Author - Last, Last Author of publication\n",
      "PPDT, Print Publication Date, Date of print publication\n",
      "EPDT, Electronic Publication Date, Date of Electronic publication\n",
      "LID, Location ID, ELocation ID\n",
      "CRDT, Date - Create, Date publication first accessible through Entrez\n",
      "BOOK, Book, ID of the book that contains the document\n",
      "ED, Editor, Section's Editor\n",
      "ISBN, ISBN, ISBN\n",
      "PUBN, Publisher, Publisher's name\n",
      "AUCL, Author Cluster ID, Author Cluster ID\n",
      "EID, Extended PMID, Extended PMID\n",
      "DSO, DSO, Additional text from the summary\n",
      "AUID, Author - Identifier, Author Identifier\n",
      "PS, Subject - Personal Name, Personal Name as Subject\n",
      "COIS, Conflict of Interest Statements, Conflict of Interest Statements\n"
     ]
    }
   ],
   "source": [
    "for field in record[\"DbInfo\"][\"FieldList\"]:\n",
    "    print(\"%(Name)s, %(FullName)s, %(Description)s\" % field)"
   ]
  },
  {
   "cell_type": "code",
   "execution_count": 5,
   "metadata": {},
   "outputs": [
    {
     "name": "stdout",
     "output_type": "stream",
     "text": [
      "['retracted[TIAB] AND \"Cell+line\"[TIAB]', 'retracted[TIAB] AND \"Dose-dependent\"[TIAB]', 'retracted[TIAB] AND \"quality\"[TIAB]', 'retracted[TIAB] AND \"case+study\"[TIAB]', 'retracted[TIAB] AND \"pilot+study\"[TIAB]', 'retracted[TIAB] AND \"data+quality\"[TIAB]', 'retracted[TIAB] AND \"Reproducibility\"[TIAB]', 'retracted[TIAB] AND \"Reproducible+Results\"[TIAB]', 'retracted[TIAB] AND \"transparency\"[TIAB]', 'retracted[TIAB] AND \"insufficient+information\"[TIAB]', 'retracted[TIAB] AND \"Specificity\"[TIAB]', 'retracted[TIAB] AND \"Antibody\"[TIAB]', 'retracted[TIAB] AND \"Clone\"[TIAB]', 'retracted[TIAB] AND \"Strain\"[TIAB]', 'retracted[TIAB] AND \"Gender\"[TIAB]', 'retracted[TIAB] AND \"Positive+control\"[TIAB]', 'retracted[TIAB] AND \"Questionairre\"[TIAB]', 'retracted[TIAB] AND \"Survey\"[TIAB]', 'retracted[TIAB] AND \"Sensitivity\"[TIAB]', 'retracted[TIAB] AND \"Animal model\"[TIAB]', 'retracted[TIAB] AND \"animal+Model \"[TIAB]', 'retracted[TIAB] AND \"short +term + study\"[TIAB]', 'retracted[TIAB] AND \"long+term+study\"[TIAB]', 'retracted[TIAB] AND \"omission\"[TIAB]', 'retracted[TIAB] AND \"plasmid\"[TIAB]', 'retracted[TIAB] AND \"Clinical+Trials\"[TIAB]', 'retracted[TIAB] AND \"side+effects\"[TIAB]', 'retracted[TIAB] AND \"drug+interaction\"[TIAB]', 'retracted[TIAB] AND \"poor+quality\"[TIAB]', 'retracted[TIAB] AND \"dosing\"[TIAB]', 'retracted[TIAB] AND \"dosage\"[TIAB]', 'retracted[TIAB] AND \"human+error\"[TIAB]', 'retracted[TIAB] AND \" in-vitro+in-vivo+correlation\"[TIAB]', 'retracted[TIAB] AND \"indirect+measurement\"[TIAB]', 'retracted[TIAB] AND \"confounding+factor\"[TIAB]', 'retracted[TIAB] AND \"misinterpretation\"[TIAB]', 'retracted[TIAB] AND \"speculation\"[TIAB]', 'retracted[TIAB] AND \"case+study\"[TIAB]', 'retracted[TIAB] AND \"placebo\"[TIAB]', 'retracted[TIAB] AND \"qualitative+data\"[TIAB]', 'retracted[TIAB] AND \"survey\"[TIAB]', 'retracted[TIAB] AND \"phase+III+trials\"[TIAB]', 'retracted[TIAB] AND \"bioavailable\"[TIAB]', 'retracted[TIAB] AND \"bioavailability\"[TIAB]', 'retracted[TIAB] AND \"coaching\"[TIAB]', 'retracted[TIAB] AND \"Conflict+of+Interest \"[TIAB]', 'retracted[TIAB] AND \"wrong+conclusion\"[TIAB]', 'retracted[TIAB] AND \"off-label\"[TIAB]', 'retracted[TIAB] AND \"general+conclusion\"[TIAB]', 'retracted[TIAB] AND \"generalized+conclusion\"[TIAB]', 'retracted[TIAB] AND \"sub-threshold\"[TIAB]', 'retracted[TIAB] AND \"Contamination\"[TIAB]', 'retracted[TIAB] AND \"Bio-identical\"[TIAB]']\n"
     ]
    }
   ],
   "source": [
    "retracted = ('retracted[TIAB] AND \"' + Q + '\"[TIAB]' for Q in queryTerms)\n",
    "retractedList = ['retracted[TIAB] AND \"' + Q +'\"[TIAB]' for Q in queryTerms]\n",
    "print(retractedList)\n"
   ]
  },
  {
   "cell_type": "code",
   "execution_count": 9,
   "metadata": {},
   "outputs": [
    {
     "name": "stdout",
     "output_type": "stream",
     "text": [
      "[{u'Count': '4307', u'Field': 'TIAB', u'Term': 'retracted[TIAB]', u'Explode': 'N'}, {u'Count': '439036', u'Field': 'TIAB', u'Term': '\"Survey\"[TIAB]', u'Explode': 'N'}, 'AND']\n",
      "[{u'Count': '4307', u'Field': 'TIAB', u'Term': 'retracted[TIAB]', u'Explode': 'N'}, {u'Count': '691758', u'Field': 'TIAB', u'Term': '\"Sensitivity\"[TIAB]', u'Explode': 'N'}, 'AND']\n",
      "[{u'Count': '4307', u'Field': 'TIAB', u'Term': 'retracted[TIAB]', u'Explode': 'N'}, {u'Count': '68979', u'Field': 'TIAB', u'Term': '\"Animal model\"[TIAB]', u'Explode': 'N'}, 'AND']\n",
      "[{u'Count': '4307', u'Field': 'TIAB', u'Term': 'retracted[TIAB]', u'Explode': 'N'}, {u'Count': '68979', u'Field': 'TIAB', u'Term': '\"animal+Model \"[TIAB]', u'Explode': 'N'}, 'AND']\n",
      "[{u'Count': '4307', u'Field': 'TIAB', u'Term': 'retracted[TIAB]', u'Explode': 'N'}, {u'Count': '1037', u'Field': 'TIAB', u'Term': '\"short +term + study\"[TIAB]', u'Explode': 'N'}, 'AND']\n",
      "[{u'Count': '4307', u'Field': 'TIAB', u'Term': 'retracted[TIAB]', u'Explode': 'N'}, {u'Count': '4291', u'Field': 'TIAB', u'Term': '\"long+term+study\"[TIAB]', u'Explode': 'N'}, 'AND']\n",
      "[{u'Count': '4307', u'Field': 'TIAB', u'Term': 'retracted[TIAB]', u'Explode': 'N'}, {u'Count': '9090', u'Field': 'TIAB', u'Term': '\"omission\"[TIAB]', u'Explode': 'N'}, 'AND']\n",
      "[{u'Count': '4307', u'Field': 'TIAB', u'Term': 'retracted[TIAB]', u'Explode': 'N'}, {u'Count': '101052', u'Field': 'TIAB', u'Term': '\"plasmid\"[TIAB]', u'Explode': 'N'}, 'AND']\n",
      "[{u'Count': '4307', u'Field': 'TIAB', u'Term': 'retracted[TIAB]', u'Explode': 'N'}, {u'Count': '206967', u'Field': 'TIAB', u'Term': '\"Clinical+Trials\"[TIAB]', u'Explode': 'N'}, 'AND']\n",
      "[{u'Count': '4307', u'Field': 'TIAB', u'Term': 'retracted[TIAB]', u'Explode': 'N'}, {u'Count': '199653', u'Field': 'TIAB', u'Term': '\"side+effects\"[TIAB]', u'Explode': 'N'}, 'AND']\n",
      "[{u'Count': '4307', u'Field': 'TIAB', u'Term': 'retracted[TIAB]', u'Explode': 'N'}, {u'Count': '8522', u'Field': 'TIAB', u'Term': '\"drug+interaction\"[TIAB]', u'Explode': 'N'}, 'AND']\n",
      "[{u'Count': '4307', u'Field': 'TIAB', u'Term': 'retracted[TIAB]', u'Explode': 'N'}, {u'Count': '9957', u'Field': 'TIAB', u'Term': '\"poor+quality\"[TIAB]', u'Explode': 'N'}, 'AND']\n",
      "[{u'Count': '4307', u'Field': 'TIAB', u'Term': 'retracted[TIAB]', u'Explode': 'N'}, {u'Count': '68716', u'Field': 'TIAB', u'Term': '\"dosing\"[TIAB]', u'Explode': 'N'}, 'AND']\n",
      "[{u'Count': '4307', u'Field': 'TIAB', u'Term': 'retracted[TIAB]', u'Explode': 'N'}, {u'Count': '121729', u'Field': 'TIAB', u'Term': '\"dosage\"[TIAB]', u'Explode': 'N'}, 'AND']\n",
      "[{u'Count': '4307', u'Field': 'TIAB', u'Term': 'retracted[TIAB]', u'Explode': 'N'}, {u'Count': '1432', u'Field': 'TIAB', u'Term': '\"human+error\"[TIAB]', u'Explode': 'N'}, 'AND']\n",
      "[{u'Count': '4307', u'Field': 'TIAB', u'Term': 'retracted[TIAB]', u'Explode': 'N'}, {u'Count': '698', u'Field': 'TIAB', u'Term': '\"in-vitro+in-vivo+correlation\"[TIAB]', u'Explode': 'N'}, 'AND']\n",
      "[{u'Count': '4307', u'Field': 'TIAB', u'Term': 'retracted[TIAB]', u'Explode': 'N'}, {u'Count': '906', u'Field': 'TIAB', u'Term': '\"indirect+measurement\"[TIAB]', u'Explode': 'N'}, 'AND']\n",
      "[{u'Count': '4307', u'Field': 'TIAB', u'Term': 'retracted[TIAB]', u'Explode': 'N'}, {u'Count': '2001', u'Field': 'TIAB', u'Term': '\"confounding+factor\"[TIAB]', u'Explode': 'N'}, 'AND']\n",
      "[{u'Count': '4307', u'Field': 'TIAB', u'Term': 'retracted[TIAB]', u'Explode': 'N'}, {u'Count': '5188', u'Field': 'TIAB', u'Term': '\"misinterpretation\"[TIAB]', u'Explode': 'N'}, 'AND']\n",
      "[{u'Count': '4307', u'Field': 'TIAB', u'Term': 'retracted[TIAB]', u'Explode': 'N'}, {u'Count': '7187', u'Field': 'TIAB', u'Term': '\"speculation\"[TIAB]', u'Explode': 'N'}, 'AND']\n",
      "[{u'Count': '4307', u'Field': 'TIAB', u'Term': 'retracted[TIAB]', u'Explode': 'N'}, {u'Count': '59715', u'Field': 'TIAB', u'Term': '\"case+study\"[TIAB]', u'Explode': 'N'}, 'AND']\n",
      "[{u'Count': '4307', u'Field': 'TIAB', u'Term': 'retracted[TIAB]', u'Explode': 'N'}, {u'Count': '192506', u'Field': 'TIAB', u'Term': '\"placebo\"[TIAB]', u'Explode': 'N'}, 'AND']\n",
      "[{u'Count': '4307', u'Field': 'TIAB', u'Term': 'retracted[TIAB]', u'Explode': 'N'}, {u'Count': '10933', u'Field': 'TIAB', u'Term': '\"qualitative+data\"[TIAB]', u'Explode': 'N'}, 'AND']\n",
      "[{u'Count': '4307', u'Field': 'TIAB', u'Term': 'retracted[TIAB]', u'Explode': 'N'}, {u'Count': '439036', u'Field': 'TIAB', u'Term': '\"survey\"[TIAB]', u'Explode': 'N'}, 'AND']\n",
      "[{u'Count': '4307', u'Field': 'TIAB', u'Term': 'retracted[TIAB]', u'Explode': 'N'}, {u'Count': '5605', u'Field': 'TIAB', u'Term': '\"phase+III+trials\"[TIAB]', u'Explode': 'N'}, 'AND']\n",
      "[{u'Count': '4307', u'Field': 'TIAB', u'Term': 'retracted[TIAB]', u'Explode': 'N'}, {u'Count': '8972', u'Field': 'TIAB', u'Term': '\"bioavailable\"[TIAB]', u'Explode': 'N'}, 'AND']\n",
      "[{u'Count': '4307', u'Field': 'TIAB', u'Term': 'retracted[TIAB]', u'Explode': 'N'}, {u'Count': '56987', u'Field': 'TIAB', u'Term': '\"bioavailability\"[TIAB]', u'Explode': 'N'}, 'AND']\n",
      "[{u'Count': '4307', u'Field': 'TIAB', u'Term': 'retracted[TIAB]', u'Explode': 'N'}, {u'Count': '4526', u'Field': 'TIAB', u'Term': '\"coaching\"[TIAB]', u'Explode': 'N'}, 'AND']\n",
      "[{u'Count': '4307', u'Field': 'TIAB', u'Term': 'retracted[TIAB]', u'Explode': 'N'}, {u'Count': '3259', u'Field': 'TIAB', u'Term': '\"Conflict+of+Interest \"[TIAB]', u'Explode': 'N'}, 'AND']\n",
      "[{u'Count': '4307', u'Field': 'TIAB', u'Term': 'retracted[TIAB]', u'Explode': 'N'}, {u'Count': '71', u'Field': 'TIAB', u'Term': '\"wrong+conclusion\"[TIAB]', u'Explode': 'N'}, 'AND']\n",
      "[{u'Count': '4307', u'Field': 'TIAB', u'Term': 'retracted[TIAB]', u'Explode': 'N'}, {u'Count': '5984', u'Field': 'TIAB', u'Term': '\"off-label\"[TIAB]', u'Explode': 'N'}, 'AND']\n",
      "[{u'Count': '4307', u'Field': 'TIAB', u'Term': 'retracted[TIAB]', u'Explode': 'N'}, {u'Count': '848', u'Field': 'TIAB', u'Term': '\"general+conclusion\"[TIAB]', u'Explode': 'N'}, 'AND']\n",
      "[{u'Count': '4307', u'Field': 'TIAB', u'Term': 'retracted[TIAB]', u'Explode': 'N'}, {u'Count': '21', u'Field': 'TIAB', u'Term': '\"generalized+conclusion\"[TIAB]', u'Explode': 'N'}, 'AND']\n",
      "[{u'Count': '4307', u'Field': 'TIAB', u'Term': 'retracted[TIAB]', u'Explode': 'N'}, {u'Count': '1163', u'Field': 'TIAB', u'Term': '\"sub-threshold\"[TIAB]', u'Explode': 'N'}, 'AND']\n",
      "[{u'Count': '4307', u'Field': 'TIAB', u'Term': 'retracted[TIAB]', u'Explode': 'N'}, {u'Count': '98441', u'Field': 'TIAB', u'Term': '\"Contamination\"[TIAB]', u'Explode': 'N'}, 'AND']\n",
      "[{u'Count': '4307', u'Field': 'TIAB', u'Term': 'retracted[TIAB]', u'Explode': 'N'}, {u'Count': '22', u'Field': 'TIAB', u'Term': '\"Bio-identical\"[TIAB]', u'Explode': 'N'}, 'AND']\n"
     ]
    }
   ],
   "source": [
    "from Bio import Entrez\n",
    "Entrez.email = \"scientistbleu@gmail.com\"\n",
    "\n",
    "for r in retracted:\n",
    "    handle = Entrez.esearch(db = \"pubmed\", term = r)\n",
    "    record = Entrez.read(handle)\n",
    "    print(record[\"TranslationStack\"])\n",
    "   "
   ]
  },
  {
   "cell_type": "code",
   "execution_count": 7,
   "metadata": {},
   "outputs": [
    {
     "name": "stdout",
     "output_type": "stream",
     "text": [
      "24\n",
      "26\n",
      "92\n",
      "11\n",
      "19\n",
      "0\n",
      "14\n",
      "1\n",
      "7\n",
      "0\n",
      "31\n",
      "50\n",
      "4\n",
      "49\n",
      "19\n",
      "1\n",
      "0\n",
      "31\n",
      "73\n",
      "26\n",
      "26\n",
      "0\n",
      "1\n",
      "3\n",
      "5\n",
      "21\n",
      "21\n",
      "0\n",
      "6\n",
      "6\n",
      "6\n",
      "0\n",
      "0\n",
      "0\n",
      "0\n",
      "1\n",
      "1\n",
      "11\n",
      "15\n",
      "0\n",
      "31\n",
      "0\n",
      "0\n",
      "0\n",
      "0\n",
      "2\n",
      "0\n",
      "0\n",
      "1\n",
      "0\n",
      "0\n",
      "17\n",
      "0\n"
     ]
    }
   ],
   "source": [
    "from Bio import Entrez\n",
    "Entrez.email = \"scientistbleu@gmail.com\"\n",
    "\n",
    "for r in retracted:\n",
    "    handle = Entrez.esearch(db = \"pubmed\", term = r)\n",
    "    record = Entrez.read(handle)\n",
    "    print(record[\"Count\"])\n",
    "   "
   ]
  },
  {
   "cell_type": "code",
   "execution_count": 6,
   "metadata": {},
   "outputs": [
    {
     "name": "stdout",
     "output_type": "stream",
     "text": [
      "['28328017', '26909548', '26587278', '26379503', '26151844', '25367795', '24928194', '22818188', '22809083', '19628771', '15380327', '12883473', '12600279', '11520488', '10686072', '9049250', '9067462', '7670189', '7859292', '1453685']\n",
      "['28444745', '27039209', '26165557', '23051153', '21541247', '18474415', '16806150', '16379023', '12871374', '12417182', '10704379', '10400315', '10328761', '10103101', '9655183', '23839547', '23839884', '23839836', '1487498', '1507037']\n",
      "['29540088', '29516389', '29514510', '29295508', '29273256', '29210313', '28970995', '28958817', '28820231', '28771429', '28658253', '27848190', '27746994', '27476082', '27428477', '27369181', '27271789', '27000421', '26997557', '26665095']\n",
      "['29056790', '27956822', '29451542', '26439083', '24714396', '23054278', '25215033', '20136577', '15998609', '10429438', '2284685']\n",
      "['28237802', '27870132', '27006718', '26066667', '22957353', '22148126', '21689950', '22437639', '20981536', '19835642', '18553208', '18071794', '17175838', '17042025', '16905069', '15347122', '11698790', '10029670', '9151610']\n",
      "[]\n",
      "['29345088', '29259084', '28976050', '28958817', '28734992', '27286650', '25035389', '23054278', '21126924', '19426194', '15296857', '12948150', '9346427', '1947845']\n",
      "['24269174']\n",
      "['29403283', '28151522', '27881524', '26507205', '25510233', '21343631', '18389086']\n",
      "[]\n",
      "['28095024', '27134183', '26230597', '25979554', '25900475', '23509848', '23413424', '23306012', '23093726', '22695776', '22664646', '22508774', '21454506', '21224416', '20604544', '18601667', '18408632', '18174140', '17633884', '12771767']\n",
      "['29581415', '28734992', '27129395', '25434797', '25383253', '25362562', '25227305', '24560420', '24182579', '23046996', '22911094', '22016880', '20176790', '17213796', '16840998', '16816384', '16364653', '16167198', '15953180', '12148241']\n",
      "['28783371', '15599052', '10085261', '4607944']\n",
      "['29262372', '28895256', '27886426', '27454761', '26809217', '26360596', '25900475', '25695518', '25010391', '24624644', '24253194', '23587930', '23188730', '23038729', '22840489', '22198263', '21979310', '21663384', '21593142', '21167117']\n",
      "['29531022', '29049633', '28455482', '27790473', '26083381', '24970288', '24349783', '21560689', '21505918', '25132890', '20625740', '20228659', '20094068', '19499278', '18474156', '17478283', '17324263', '16910604', '16202047']\n",
      "['17536925']\n",
      "[]\n",
      "['29451549', '29403283', '28840875', '28683764', '27454761', '27140508', '26252752', '26185672', '27345871', '24754060', '24754059', '24708140', '24456256', '23652169', '23115617', '22423330', '22331199', '21544560', '20222787', '17324263']\n",
      "['28611216', '28120494', '28095024', '28045714', '27978463', '27897141', '27689085', '27534920', '27222653', '27134183', '27070108', '26997557', '26230597', '26185672', '25979554', '25770739', '25398499', '24949487', '24921111', '24078320']\n",
      "['28272927', '24656405', '23917953', '23509848', '22152220', '21938374', '21717264', '21445691', '21046162', '20856155', '20432205', '19933535', '19709796', '19434747', '18931216', '17637406', '17543299', '17459566', '17156366', '16251122']\n",
      "['28272927', '24656405', '23917953', '23509848', '22152220', '21938374', '21717264', '21445691', '21046162', '20856155', '20432205', '19933535', '19709796', '19434747', '18931216', '17637406', '17543299', '17459566', '17156366', '16251122']\n",
      "[]\n",
      "['12124536']\n",
      "['27060554', '16893357', '2486063']\n",
      "['22818188', '22809083', '7553917', '6114615', '338595']\n",
      "['28384800', '28341221', '28040596', '26665095', '26387520', '25612658', '25334090', '25035389', '23423413', '22664646', '22138727', '21924804', '21343631', '20035355', '19852663', '17123445', '15544278', '11364919', '10993010', '7545222']\n",
      "['27227402', '25421574', '24980815', '24846238', '24044098', '25390966', '21541247', '21365314', '20397777', '20305602', '19921234', '17223514', '17163374', '29024436', '12352350', '10993010', '10869997', '9743980', '2838488', '12313225']\n",
      "[]\n",
      "['29273256', '26665095', '22184610', '20980012', '12171229', '6750672']\n",
      "['28384800', '27769522', '16326378', '15083263', '14608265', '856971']\n",
      "['23666482', '15124054', '10066156', '23839836', '3884136', '1027757']\n",
      "[]\n",
      "[]\n",
      "[]\n",
      "[]\n",
      "['27751806']\n",
      "['10574746']\n",
      "['29056790', '27956822', '29451542', '26439083', '24714396', '23054278', '25215033', '20136577', '15998609', '10429438', '2284685']\n",
      "['28479034', '28384800', '27471887', '27271789', '26997557', '26094200', '25563879', '25334090', '24675098', '23624419', '21367625', '17652297', '17123445', '11364919', '8704533']\n",
      "[]\n",
      "['29451549', '29403283', '28840875', '28683764', '27454761', '27140508', '26252752', '26185672', '27345871', '24754060', '24754059', '24708140', '24456256', '23652169', '23115617', '22423330', '22331199', '21544560', '20222787', '17324263']\n",
      "[]\n",
      "[]\n",
      "[]\n",
      "[]\n",
      "['28447746', '24796938']\n",
      "[]\n",
      "[]\n",
      "['2891681']\n",
      "[]\n",
      "[]\n",
      "['27818683', '27000421', '24928194', '24598373', '22818188', '22743633', '20166838', '20063015', '18091414', '15585294', '14673523', '10550028', '10364862', '9921315', '9341276', '8666769', '3400036']\n",
      "[]\n"
     ]
    }
   ],
   "source": [
    "from Bio import Entrez\n",
    "Entrez.email = \"scientistbleu@gmail.com\"\n",
    "\n",
    "for r in retracted:\n",
    "    handle = Entrez.esearch(db = \"pubmed\", term = r)\n",
    "    record = Entrez.read(handle)\n",
    "    print(record[\"IdList\"])\n",
    "   "
   ]
  },
  {
   "cell_type": "code",
   "execution_count": 15,
   "metadata": {},
   "outputs": [],
   "source": [
    "from Bio import Entrez\n",
    "#creates open dictionary to store PMID with query term\n",
    "retractedID = {}\n",
    "\n",
    "#creates list to store queries wihtout PMIDs\n",
    "withoutRetracted = []\n",
    "\n",
    "Entrez.email = \"scientistbleu@gmail.com\"\n",
    "for r in retracted:\n",
    "    handle = Entrez.esearch(db = \"pubmed\", term = r)\n",
    "    records = Entrez.read(handle)\n",
    "    for entry in records:\n",
    "        Q = r\n",
    "        PMIDS = (int(str(record[\"IdList\"])))\n",
    "        if len(range(PMIDS))>0:\n",
    "            retractedID.append(PMIDS)\n",
    "        else: \n",
    "            withoutRetracted.append(r)\n",
    "    print(retractedID)\n"
   ]
  },
  {
   "cell_type": "code",
   "execution_count": null,
   "metadata": {
    "collapsed": true
   },
   "outputs": [],
   "source": []
  }
 ],
 "metadata": {
  "kernelspec": {
   "display_name": "Python 2",
   "language": "python",
   "name": "python2"
  },
  "language_info": {
   "codemirror_mode": {
    "name": "ipython",
    "version": 2
   },
   "file_extension": ".py",
   "mimetype": "text/x-python",
   "name": "python",
   "nbconvert_exporter": "python",
   "pygments_lexer": "ipython2",
   "version": "2.7.13"
  }
 },
 "nbformat": 4,
 "nbformat_minor": 2
}
